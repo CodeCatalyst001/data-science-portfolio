{
 "cells": [
  {
   "cell_type": "markdown",
   "id": "55b752b2-5636-44c7-9efc-619e4efe8a0b",
   "metadata": {},
   "source": [
    "# NUMPY"
   ]
  },
  {
   "cell_type": "markdown",
   "id": "f45dde1f-647a-4cff-8bbb-4cb79d20ae9d",
   "metadata": {},
   "source": [
    "## Introduction\n",
    "Short paragraph on what NumPy is and why it’s useful.\n",
    "\n",
    "**Example:**\n",
    "\n",
    "“NumPy is a fundamental library for scientific computing in Python. It provides fast and memory-efficient arrays along with mathematical functions for data science, machine learning, and numerical simulations.”"
   ]
  },
  {
   "cell_type": "markdown",
   "id": "45dfd591-8019-4fc5-9351-de4b34f9eea0",
   "metadata": {},
   "source": [
    "## Importing NumPy"
   ]
  },
  {
   "cell_type": "code",
   "execution_count": 2,
   "id": "80598324-605d-47f9-afb8-f9d80e4c46af",
   "metadata": {},
   "outputs": [],
   "source": [
    "import numpy as np"
   ]
  },
  {
   "cell_type": "markdown",
   "id": "93103be9-d5d9-47c6-bd38-2acb70f6dd8e",
   "metadata": {},
   "source": [
    "### Array Creation\n",
    "* Creating arrays from lists\n",
    "* Using built-in functions (np.zeros, np.ones, np.arange, np.linspace)\n",
    "* Multidimensional arrays\n",
    "\n",
    "We can create NumPy arrays from Python lists using `np.array()`.  \n",
    "This is the most common way to start working with arrays."
   ]
  },
  {
   "cell_type": "code",
   "execution_count": 8,
   "id": "bc11843f-ed0e-4de8-92b8-20e216d72e03",
   "metadata": {},
   "outputs": [
    {
     "name": "stdout",
     "output_type": "stream",
     "text": [
      "1D Array: [1 2 3 4 5]\n"
     ]
    }
   ],
   "source": [
    "# Create a NumPy array from a Python list\n",
    "arr = np.array([1, 2, 3, 4, 5])\n",
    "print(\"1D Array:\", arr)"
   ]
  },
  {
   "cell_type": "code",
   "execution_count": 9,
   "id": "11feed23-1820-4849-b9cd-230a41b335ca",
   "metadata": {},
   "outputs": [
    {
     "name": "stdout",
     "output_type": "stream",
     "text": [
      "2D Zeros Array:\n",
      " [[0. 0. 0.]\n",
      " [0. 0. 0.]]\n"
     ]
    }
   ],
   "source": [
    "# Create a 2D array of zeros\n",
    "zeros_arr = np.zeros((2, 3))\n",
    "print(\"2D Zeros Array:\\n\", zeros_arr)"
   ]
  },
  {
   "cell_type": "code",
   "execution_count": 10,
   "id": "61a5109e-8760-47a5-b49a-edc9e27288f3",
   "metadata": {},
   "outputs": [
    {
     "name": "stdout",
     "output_type": "stream",
     "text": [
      "Range Array: [0 1 2 3 4 5 6 7 8 9]\n"
     ]
    }
   ],
   "source": [
    "# Create an array with values from 0 to 9\n",
    "range_arr = np.arange(10)\n",
    "print(\"Range Array:\", range_arr)"
   ]
  },
  {
   "cell_type": "markdown",
   "id": "7a236f50-dc8e-4278-ae8c-f48971a7f39a",
   "metadata": {},
   "source": [
    "### Array Operations\n",
    "* Element-wise operations\n",
    "* Broadcasting\n",
    "* Universal functions (np.add, np.multiply, np.sqrt, etc.)\n",
    "\n",
    "NumPy supports element-wise operations.  \n",
    "That means operations apply to each element without using loops."
   ]
  },
  {
   "cell_type": "code",
   "execution_count": 11,
   "id": "679345c3-d8fc-440c-bbc4-62bc5cabdd6f",
   "metadata": {},
   "outputs": [
    {
     "name": "stdout",
     "output_type": "stream",
     "text": [
      "Addition: [5 7 9]\n"
     ]
    }
   ],
   "source": [
    "# Element-wise addition\n",
    "a = np.array([1, 2, 3])\n",
    "b = np.array([4, 5, 6])\n",
    "print(\"Addition:\", a + b)"
   ]
  },
  {
   "cell_type": "code",
   "execution_count": 12,
   "id": "c63a3abb-5a89-4923-a4db-ad88651d859a",
   "metadata": {},
   "outputs": [
    {
     "name": "stdout",
     "output_type": "stream",
     "text": [
      "Broadcasting example: [11 12 13]\n"
     ]
    }
   ],
   "source": [
    "# Broadcasting\n",
    "print(\"Broadcasting example:\", a + 10)"
   ]
  },
  {
   "cell_type": "code",
   "execution_count": 13,
   "id": "5d8961c9-3dba-4fde-a098-7f49f7f68594",
   "metadata": {},
   "outputs": [
    {
     "name": "stdout",
     "output_type": "stream",
     "text": [
      "Square roots: [1.         1.41421356 1.73205081]\n"
     ]
    }
   ],
   "source": [
    "# Using universal functions\n",
    "print(\"Square roots:\", np.sqrt(a))"
   ]
  },
  {
   "cell_type": "markdown",
   "id": "3cbc91e5-3056-44b7-a86f-120211935058",
   "metadata": {},
   "source": [
    "### Indexing and Slicing\n",
    "* Accessing single elements\n",
    "* Slicing sub-arrays\n",
    "* Boolean indexing\n",
    "\n",
    "We can access elements using indexes (arr[0]) or slices (arr[1:4]).  \n",
    "Slicing creates a view, not a copy."
   ]
  },
  {
   "cell_type": "code",
   "execution_count": 14,
   "id": "d0773cfd-0ecc-4a51-9b3c-bb50a74777e0",
   "metadata": {},
   "outputs": [
    {
     "name": "stdout",
     "output_type": "stream",
     "text": [
      "First element: 10\n",
      "Slice [1:4]: [20 30 40]\n",
      "Elements greater than 25: [30 40 50]\n"
     ]
    }
   ],
   "source": [
    "arr = np.array([10, 20, 30, 40, 50])\n",
    "print(\"First element:\", arr[0])\n",
    "print(\"Slice [1:4]:\", arr[1:4])\n",
    "# Boolean indexing\n",
    "print(\"Elements greater than 25:\", arr[arr > 25])"
   ]
  },
  {
   "cell_type": "markdown",
   "id": "c1baa715-16b1-46bf-8bdc-51a76ed7e914",
   "metadata": {},
   "source": [
    "### Array Statistics\n",
    "* Mean, median, standard deviation\n",
    "* Min, max, sum\n",
    "\n",
    "np.mean(arr) → Returns the average of all elements.  \n",
    "np.median(arr) → Middle value when data is sorted.  \n",
    "np.std(arr) → Measures spread of values (standard deviation).  \n",
    "np.min(arr) / np.max(arr) → Smallest and largest values.  \n",
    "np.sum(arr) → Adds up all elements."
   ]
  },
  {
   "cell_type": "code",
   "execution_count": 15,
   "id": "13ab067d-1663-48f9-b19a-a427f36d36a9",
   "metadata": {},
   "outputs": [
    {
     "name": "stdout",
     "output_type": "stream",
     "text": [
      "Mean: 3.0\n",
      "Median: 3.0\n",
      "Standard Deviation: 1.4142135623730951\n",
      "Min: 1\n",
      "Max: 5\n",
      "Sum: 15\n"
     ]
    }
   ],
   "source": [
    "arr = np.array([1, 2, 3, 4, 5])\n",
    "print(\"Mean:\", np.mean(arr))\n",
    "print(\"Median:\", np.median(arr))\n",
    "print(\"Standard Deviation:\", np.std(arr))\n",
    "print(\"Min:\", np.min(arr))\n",
    "print(\"Max:\", np.max(arr))\n",
    "print(\"Sum:\", np.sum(arr))"
   ]
  },
  {
   "cell_type": "markdown",
   "id": "1792d0ff-5b02-42b3-9308-b9ba0c319292",
   "metadata": {},
   "source": [
    "## Linear Algebra Operations\n",
    "* Matrix multiplication (np.dot, @)\n",
    "* Transpose\n",
    "* Determinant and inverse\n",
    "\n",
    "We can calculate the determinant of a matrix using np.linalg.det().  \n",
    "The inverse of a matrix (if it exists) is found using np.linalg.inv().  \n",
    "Not every matrix has an inverse: only square and non-singular matrices do.\n",
    "### Matrix Multiplication: `np.dot` vs `@`\n",
    "\n",
    "- `np.dot(A, B)` → behaves differently depending on dimensions:  \n",
    "  - For 1D vectors → computes the dot product.  \n",
    "  - For 2D arrays → performs matrix multiplication.  \n",
    "- `A @ B` → introduced in Python 3.5, is the **matrix multiplication operator**.  \n",
    "  - Equivalent to `np.matmul(A, B)`.  \n",
    "  - Always follows matrix multiplication rules.  \n",
    "\n",
    "👉 For **2D arrays**, both `np.dot(A, B)` and `A @ B` give the same result.  \n"
   ]
  },
  {
   "cell_type": "code",
   "execution_count": 16,
   "id": "f0b8d259-7a8c-466c-b812-2d4a73a59625",
   "metadata": {},
   "outputs": [
    {
     "name": "stdout",
     "output_type": "stream",
     "text": [
      "Matrix multiplication:\n",
      " [[19 22]\n",
      " [43 50]]\n",
      "Matrix multiplication:\n",
      " [[19 22]\n",
      " [43 50]]\n",
      "Transpose of A:\n",
      " [[1 3]\n",
      " [2 4]]\n",
      "Determinant: -2.0000000000000004\n",
      "Inverse:\n",
      " [[-2.   1. ]\n",
      " [ 1.5 -0.5]]\n"
     ]
    }
   ],
   "source": [
    "A = np.array([[1, 2], [3, 4]])\n",
    "B = np.array([[5, 6], [7, 8]])\n",
    "\n",
    "print(\"Matrix multiplication:\\n\", np.dot(A, B))\n",
    "print(\"Matrix multiplication:\\n\", A @ B)\n",
    "print(\"Transpose of A:\\n\", A.T)\n",
    "print(\"Determinant:\", np.linalg.det(A))\n",
    "print(\"Inverse:\\n\", np.linalg.inv(A))"
   ]
  },
  {
   "cell_type": "markdown",
   "id": "b9917620-6062-46b9-81f6-7ee7574f08e4",
   "metadata": {},
   "source": [
    "### Random Numbers\n",
    "* Random integers, floats\n",
    "* Random distributions\n",
    "\n",
    "NumPy provides the np.random module for generating random numbers.  \n",
    "We can create random integers using np.random.randint().  \n",
    "For random floats, use np.random.rand() or np.random.randn().  \n",
    "Useful for simulations, testing, and machine learning."
   ]
  },
  {
   "cell_type": "code",
   "execution_count": 17,
   "id": "1f271ffa-f80a-42df-9285-40d7c4db3405",
   "metadata": {},
   "outputs": [
    {
     "name": "stdout",
     "output_type": "stream",
     "text": [
      "Random integers: [3 8 7 5 3]\n",
      "Random normal distribution:\n",
      " [[-0.67227271  2.57702668  0.71709986]\n",
      " [-0.86563984  0.64305449 -0.55658718]\n",
      " [ 0.8380881  -1.52904191 -1.56645717]]\n"
     ]
    }
   ],
   "source": [
    "rand_ints = np.random.randint(1, 10, size=5)\n",
    "print(\"Random integers:\", rand_ints)\n",
    "rand_norm = np.random.randn(3, 3)\n",
    "print(\"Random normal distribution:\\n\", rand_norm)"
   ]
  },
  {
   "cell_type": "markdown",
   "id": "b3d262e2",
   "metadata": {},
   "source": [
    "### Additional Array Creation Methods\n",
    "- **np.arange(start, stop, step)** → Creates evenly spaced values within an interval.\n",
    "- **np.ones(shape)** → Creates an array of ones.\n",
    "- **np.zeros(shape)** → Creates an array of zeros.\n",
    "- **np.identity(n)** → Creates an identity matrix of size n×n.\n"
   ]
  },
  {
   "cell_type": "code",
   "execution_count": 18,
   "id": "7ecd7d54",
   "metadata": {},
   "outputs": [
    {
     "name": "stdout",
     "output_type": "stream",
     "text": [
      "np.arange(0, 10, 2):\n",
      " [0 2 4 6 8]\n",
      "\n",
      "np.ones((3,3)):\n",
      " [[1. 1. 1.]\n",
      " [1. 1. 1.]\n",
      " [1. 1. 1.]]\n",
      "\n",
      "np.zeros((2,4)):\n",
      " [[0. 0. 0. 0.]\n",
      " [0. 0. 0. 0.]]\n",
      "\n",
      "np.identity(4):\n",
      " [[1. 0. 0. 0.]\n",
      " [0. 1. 0. 0.]\n",
      " [0. 0. 1. 0.]\n",
      " [0. 0. 0. 1.]]\n"
     ]
    }
   ],
   "source": [
    "arr1 = np.arange(0, 10, 2)\n",
    "print(\"np.arange(0, 10, 2):\\n\", arr1)\n",
    "\n",
    "arr2 = np.ones((3, 3))\n",
    "print(\"\\nnp.ones((3,3)):\\n\", arr2)\n",
    "\n",
    "arr3 = np.zeros((2, 4))\n",
    "print(\"\\nnp.zeros((2,4)):\\n\", arr3)\n",
    "\n",
    "arr4 = np.identity(4)\n",
    "print(\"\\nnp.identity(4):\\n\", arr4)"
   ]
  },
  {
   "cell_type": "markdown",
   "id": "5ee1284c",
   "metadata": {},
   "source": [
    "### Reshaping Arrays\n",
    "NumPy allows us to change the shape of arrays using `reshape()`. The new shape must be compatible with the total number of elements.\n"
   ]
  },
  {
   "cell_type": "code",
   "execution_count": 6,
   "id": "3c1b8ae4",
   "metadata": {},
   "outputs": [
    {
     "name": "stdout",
     "output_type": "stream",
     "text": [
      "Original array: [ 0  1  2  3  4  5  6  7  8  9 10 11]\n",
      "Reshaped to 3x4:\n",
      " [[ 0  1  2  3]\n",
      " [ 4  5  6  7]\n",
      " [ 8  9 10 11]]\n",
      "Reshaped to 2x2x3:\n",
      " [[[ 0  1  2]\n",
      "  [ 3  4  5]]\n",
      "\n",
      " [[ 6  7  8]\n",
      "  [ 9 10 11]]]\n"
     ]
    }
   ],
   "source": [
    "a = np.arange(12)\n",
    "print(\"Original array:\", a)\n",
    "print(\"Reshaped to 3x4:\\n\", a.reshape(3,4))\n",
    "print(\"Reshaped to 2x2x3:\\n\", a.reshape(2,2,3))"
   ]
  },
  {
   "cell_type": "markdown",
   "id": "716fa535",
   "metadata": {},
   "source": [
    "### Flatten vs Ravel\n",
    "- `flatten()` returns a **copy** of the array collapsed into one dimension.\n",
    "- `ravel()` returns a **view** of the array whenever possible (more memory efficient).\n"
   ]
  },
  {
   "cell_type": "code",
   "execution_count": 7,
   "id": "7decd5f7",
   "metadata": {},
   "outputs": [
    {
     "name": "stdout",
     "output_type": "stream",
     "text": [
      "Original Array:\n",
      " [[1 2]\n",
      " [3 4]]\n",
      "\n",
      "A.flatten(): [1 2 3 4]\n",
      "A.ravel(): [1 2 3 4]\n",
      "\n",
      "Modified Original Array:\n",
      " [[99  2]\n",
      " [ 3  4]]\n",
      "Flatten result (unchanged): [1 2 3 4]\n",
      "Ravel result (view): [99  2  3  4]\n"
     ]
    }
   ],
   "source": [
    "A = np.array([[1, 2], [3, 4]])\n",
    "flat = A.flatten()\n",
    "rav = A.ravel()\n",
    "\n",
    "print(\"Original Array:\\n\", A)\n",
    "print(\"\\nA.flatten():\", flat)\n",
    "print(\"A.ravel():\", rav)\n",
    "\n",
    "# Let's modify the original array to see the difference\n",
    "A[0,0] = 99\n",
    "print(\"\\nModified Original Array:\\n\", A)\n",
    "print(\"Flatten result (unchanged):\", flat)\n",
    "print(\"Ravel result (view):\", rav)"
   ]
  },
  {
   "cell_type": "markdown",
   "id": "22c854b5-15fd-4a93-8760-6e8b920c52be",
   "metadata": {},
   "source": [
    "## Conclusion\n",
    "Wrap up with a short summary.\n",
    "\n",
    "**Example:**\n",
    "\n",
    "“In this notebook, we explored NumPy basics including array creation, operations, slicing, statistics, and linear algebra. NumPy is the backbone of libraries like Pandas, SciPy, and Scikit-learn, so mastering it is an essential first step in data science.”"
   ]
  },
  {
   "cell_type": "code",
   "execution_count": null,
   "id": "f117c6f1-3e66-48f0-886e-7ed2d35ecdea",
   "metadata": {},
   "outputs": [],
   "source": []
  },
  {
   "cell_type": "markdown",
   "id": "1f290966-e44a-4fdf-b9a3-dd60c72368ad",
   "metadata": {},
   "source": []
  },
  {
   "cell_type": "code",
   "execution_count": 29,
   "id": "180452f8-3286-454c-9888-21ce91dc8b77",
   "metadata": {},
   "outputs": [
    {
     "data": {
      "text/plain": [
       "array([[2, 4],\n",
       "       [6, 8]])"
      ]
     },
     "execution_count": 29,
     "metadata": {},
     "output_type": "execute_result"
    }
   ],
   "source": [
    "m1 = np.array([[1,2],[3,4]])\n",
    "m1 * 2"
   ]
  },
  {
   "cell_type": "code",
   "execution_count": 30,
   "id": "0cda4b9e-3c9e-401d-ad1d-1fbf5aee5c42",
   "metadata": {},
   "outputs": [
    {
     "data": {
      "text/plain": [
       "array([[ 1,  2,  3],\n",
       "       [ 4,  5,  6],\n",
       "       [ 7,  8,  9],\n",
       "       [10, 11, 12]])"
      ]
     },
     "execution_count": 30,
     "metadata": {},
     "output_type": "execute_result"
    }
   ],
   "source": [
    "m2 = np.arange(1,13)\n",
    "m2.reshape(4,3)"
   ]
  },
  {
   "cell_type": "code",
   "execution_count": 31,
   "id": "766ec92e-1768-4997-9f14-fac793432a08",
   "metadata": {},
   "outputs": [
    {
     "data": {
      "text/plain": [
       "array([[0, 1, 2],\n",
       "       [3, 4, 5],\n",
       "       [6, 7, 8]])"
      ]
     },
     "execution_count": 31,
     "metadata": {},
     "output_type": "execute_result"
    }
   ],
   "source": [
    "m3 = np.arange(9)\n",
    "m3 = m3.reshape(3,3)\n",
    "m3"
   ]
  },
  {
   "cell_type": "code",
   "execution_count": 32,
   "id": "27dc72f6-73d5-49b7-a549-75f02ca5d0f5",
   "metadata": {},
   "outputs": [
    {
     "data": {
      "text/plain": [
       "(3, 3)"
      ]
     },
     "execution_count": 32,
     "metadata": {},
     "output_type": "execute_result"
    }
   ],
   "source": [
    "m3.shape"
   ]
  },
  {
   "cell_type": "code",
   "execution_count": 33,
   "id": "a469f698-5a13-483b-aad4-4d02577a1fc2",
   "metadata": {},
   "outputs": [
    {
     "data": {
      "text/plain": [
       "array([0., 0., 0., 0., 0.])"
      ]
     },
     "execution_count": 33,
     "metadata": {},
     "output_type": "execute_result"
    }
   ],
   "source": [
    "np.zeros(5)"
   ]
  },
  {
   "cell_type": "code",
   "execution_count": 34,
   "id": "31a12941-6697-43b8-9c7f-3211bfad41f6",
   "metadata": {},
   "outputs": [
    {
     "data": {
      "text/plain": [
       "array([[1., 1., 1.],\n",
       "       [1., 1., 1.]])"
      ]
     },
     "execution_count": 34,
     "metadata": {},
     "output_type": "execute_result"
    }
   ],
   "source": [
    "np.ones((2,3))"
   ]
  },
  {
   "cell_type": "code",
   "execution_count": 35,
   "id": "cb7f5dbd-02eb-4dce-83fd-ce474ac23b7c",
   "metadata": {},
   "outputs": [
    {
     "data": {
      "text/plain": [
       "array([[5., 5.],\n",
       "       [5., 5.],\n",
       "       [5., 5.]])"
      ]
     },
     "execution_count": 35,
     "metadata": {},
     "output_type": "execute_result"
    }
   ],
   "source": [
    "np.ones((3,2)) * 5"
   ]
  },
  {
   "cell_type": "code",
   "execution_count": 36,
   "id": "45a824d9-3c04-4a4a-8c20-a0ef292013cd",
   "metadata": {},
   "outputs": [
    {
     "data": {
      "text/plain": [
       "array([[1, 0, 0],\n",
       "       [0, 2, 0],\n",
       "       [0, 0, 3]])"
      ]
     },
     "execution_count": 36,
     "metadata": {},
     "output_type": "execute_result"
    }
   ],
   "source": [
    "np.diag([1, 2, 3])"
   ]
  },
  {
   "cell_type": "code",
   "execution_count": 37,
   "id": "5a23dc68-1ef0-49c0-ac93-935e2d8c14ba",
   "metadata": {},
   "outputs": [
    {
     "data": {
      "text/plain": [
       "array([[1., 0., 0.],\n",
       "       [0., 1., 0.],\n",
       "       [0., 0., 1.]])"
      ]
     },
     "execution_count": 37,
     "metadata": {},
     "output_type": "execute_result"
    }
   ],
   "source": [
    "np.identity(3)"
   ]
  },
  {
   "cell_type": "code",
   "execution_count": 38,
   "id": "2642e048-3024-42af-b5ed-4d26fe47c33b",
   "metadata": {},
   "outputs": [
    {
     "data": {
      "text/plain": [
       "array([[ 0,  1,  2,  3],\n",
       "       [ 4,  5,  6,  7],\n",
       "       [ 8,  9, 10, 11]])"
      ]
     },
     "execution_count": 38,
     "metadata": {},
     "output_type": "execute_result"
    }
   ],
   "source": [
    "l1 = np.arange(12).reshape(3,4)\n",
    "l1"
   ]
  },
  {
   "cell_type": "code",
   "execution_count": 39,
   "id": "b9387d81-1c1e-4e7e-91df-edb432e3abb1",
   "metadata": {},
   "outputs": [
    {
     "data": {
      "text/plain": [
       "np.int64(5)"
      ]
     },
     "execution_count": 39,
     "metadata": {},
     "output_type": "execute_result"
    }
   ],
   "source": [
    "l1[1,1]"
   ]
  },
  {
   "cell_type": "code",
   "execution_count": 40,
   "id": "408dc568-4293-4a07-a85a-613a862a1859",
   "metadata": {},
   "outputs": [
    {
     "data": {
      "text/plain": [
       "array([1, 2])"
      ]
     },
     "execution_count": 40,
     "metadata": {},
     "output_type": "execute_result"
    }
   ],
   "source": [
    "l1[0,1:3]"
   ]
  },
  {
   "cell_type": "code",
   "execution_count": 41,
   "id": "cded24c4-45b6-4c8a-b85e-10af2d4cdcce",
   "metadata": {},
   "outputs": [
    {
     "data": {
      "text/plain": [
       "array([[ 5,  6],\n",
       "       [ 9, 10]])"
      ]
     },
     "execution_count": 41,
     "metadata": {},
     "output_type": "execute_result"
    }
   ],
   "source": [
    "l1[1:3, 1:3]"
   ]
  },
  {
   "cell_type": "code",
   "execution_count": 42,
   "id": "d25fbe03-f3e9-4eac-971f-5c133eb361b6",
   "metadata": {},
   "outputs": [
    {
     "data": {
      "text/plain": [
       "array([[ 2,  3],\n",
       "       [ 6,  7],\n",
       "       [10, 11]])"
      ]
     },
     "execution_count": 42,
     "metadata": {},
     "output_type": "execute_result"
    }
   ],
   "source": [
    "l1[0:3,2:4]"
   ]
  },
  {
   "cell_type": "code",
   "execution_count": 43,
   "id": "794d333f-14a0-498c-8f9f-5cf881e3991d",
   "metadata": {},
   "outputs": [
    {
     "data": {
      "text/plain": [
       "array([[ 1,  3],\n",
       "       [ 5,  7],\n",
       "       [ 9, 11]])"
      ]
     },
     "execution_count": 43,
     "metadata": {},
     "output_type": "execute_result"
    }
   ],
   "source": [
    "l1[:,1::2]"
   ]
  },
  {
   "cell_type": "code",
   "execution_count": 44,
   "id": "667e5f9b-c215-44d6-a5ac-5a344f435f18",
   "metadata": {},
   "outputs": [
    {
     "data": {
      "text/plain": [
       "array([[ True,  True,  True,  True],\n",
       "       [ True,  True, False, False],\n",
       "       [False, False, False, False]])"
      ]
     },
     "execution_count": 44,
     "metadata": {},
     "output_type": "execute_result"
    }
   ],
   "source": [
    "l1 = np.arange(12).reshape(3,4)\n",
    "l1 < 6"
   ]
  },
  {
   "cell_type": "code",
   "execution_count": 45,
   "id": "ab7485b4-11f4-463c-96df-a3684576ae62",
   "metadata": {},
   "outputs": [
    {
     "data": {
      "text/plain": [
       "array([0, 1, 2, 3, 4, 5])"
      ]
     },
     "execution_count": 45,
     "metadata": {},
     "output_type": "execute_result"
    }
   ],
   "source": [
    "l1[l1 < 6]"
   ]
  },
  {
   "cell_type": "code",
   "execution_count": 46,
   "id": "5984828a-2973-4bf7-a3fd-778aa81261f0",
   "metadata": {},
   "outputs": [
    {
     "data": {
      "text/plain": [
       "array([[ 4,  5,  6,  7],\n",
       "       [ 8,  9, 10, 11],\n",
       "       [12, 13, 14, 15]])"
      ]
     },
     "execution_count": 46,
     "metadata": {},
     "output_type": "execute_result"
    }
   ],
   "source": [
    "l1 = np.arange(12).reshape(3,4)\n",
    "l1 + 4"
   ]
  },
  {
   "cell_type": "code",
   "execution_count": 47,
   "id": "bc89f72a-65e1-410e-a5aa-3ed4b2177d90",
   "metadata": {},
   "outputs": [
    {
     "data": {
      "text/plain": [
       "array([[ 0,  2,  4],\n",
       "       [ 6,  8, 10]])"
      ]
     },
     "execution_count": 47,
     "metadata": {},
     "output_type": "execute_result"
    }
   ],
   "source": [
    "l1[l1 % 2 == 0].reshape(2,3)"
   ]
  },
  {
   "cell_type": "code",
   "execution_count": 48,
   "id": "eb883cab-8071-4488-bd23-f94661ac38b3",
   "metadata": {},
   "outputs": [
    {
     "data": {
      "text/plain": [
       "array([3, 4, 5])"
      ]
     },
     "execution_count": 48,
     "metadata": {},
     "output_type": "execute_result"
    }
   ],
   "source": [
    "a = np.array([1, 2, 3])\n",
    "b = np.array([2, 2, 2])\n",
    "a + b"
   ]
  },
  {
   "cell_type": "code",
   "execution_count": 49,
   "id": "fb1acf58-5af5-48f9-bbf3-399ad9e6d187",
   "metadata": {},
   "outputs": [
    {
     "data": {
      "text/plain": [
       "array([[ 0,  1,  2,  3],\n",
       "       [ 4,  5,  6,  7],\n",
       "       [ 8,  9, 10, 11]])"
      ]
     },
     "execution_count": 49,
     "metadata": {},
     "output_type": "execute_result"
    }
   ],
   "source": [
    "A = np.arange(12).reshape(3, 4)\n",
    "A"
   ]
  },
  {
   "cell_type": "code",
   "execution_count": 50,
   "id": "fce4658f-e42c-4701-b2b6-d160748dac6e",
   "metadata": {},
   "outputs": [
    {
     "data": {
      "text/plain": [
       "array([[ 0,  1,  2,  3],\n",
       "       [ 4,  5,  6,  7],\n",
       "       [ 8,  9, 10, 11]])"
      ]
     },
     "execution_count": 50,
     "metadata": {},
     "output_type": "execute_result"
    }
   ],
   "source": [
    "B = np.arange(12).reshape(3,4)\n",
    "B"
   ]
  },
  {
   "cell_type": "code",
   "execution_count": 51,
   "id": "576df8f7-09d5-48fd-af9c-9c410fbcb849",
   "metadata": {},
   "outputs": [
    {
     "data": {
      "text/plain": [
       "array([[  0,   1,   4,   9],\n",
       "       [ 16,  25,  36,  49],\n",
       "       [ 64,  81, 100, 121]])"
      ]
     },
     "execution_count": 51,
     "metadata": {},
     "output_type": "execute_result"
    }
   ],
   "source": [
    "A * B"
   ]
  },
  {
   "cell_type": "code",
   "execution_count": 52,
   "id": "e3c9da03-280c-4a33-bb91-6b9fe009963a",
   "metadata": {},
   "outputs": [
    {
     "data": {
      "text/plain": [
       "array([[ 0,  1,  2],\n",
       "       [ 3,  4,  5],\n",
       "       [ 6,  7,  8],\n",
       "       [ 9, 10, 11]])"
      ]
     },
     "execution_count": 52,
     "metadata": {},
     "output_type": "execute_result"
    }
   ],
   "source": [
    "B = B.reshape(4,3)\n",
    "B"
   ]
  },
  {
   "cell_type": "code",
   "execution_count": 53,
   "id": "43cb97d3-2fb9-41c1-bc83-7d579f87d6a2",
   "metadata": {},
   "outputs": [
    {
     "data": {
      "text/plain": [
       "array([[ 42,  48,  54],\n",
       "       [114, 136, 158],\n",
       "       [186, 224, 262]])"
      ]
     },
     "execution_count": 53,
     "metadata": {},
     "output_type": "execute_result"
    }
   ],
   "source": [
    "np.matmul(A, B)"
   ]
  },
  {
   "cell_type": "code",
   "execution_count": 54,
   "id": "08edc9fa-5edc-4e53-8da9-59e401b29fdf",
   "metadata": {},
   "outputs": [
    {
     "data": {
      "text/plain": [
       "array([[ 42,  48,  54],\n",
       "       [114, 136, 158],\n",
       "       [186, 224, 262]])"
      ]
     },
     "execution_count": 54,
     "metadata": {},
     "output_type": "execute_result"
    }
   ],
   "source": [
    "A @ B"
   ]
  },
  {
   "cell_type": "code",
   "execution_count": 55,
   "id": "9422fae4-06a9-4ce2-a01b-4ec9abf6f2e4",
   "metadata": {},
   "outputs": [
    {
     "data": {
      "text/plain": [
       "array([[ 20,  23,  26,  29],\n",
       "       [ 56,  68,  80,  92],\n",
       "       [ 92, 113, 134, 155],\n",
       "       [128, 158, 188, 218]])"
      ]
     },
     "execution_count": 55,
     "metadata": {},
     "output_type": "execute_result"
    }
   ],
   "source": [
    "B @ A"
   ]
  },
  {
   "cell_type": "code",
   "execution_count": 56,
   "id": "bf0c6c35-763b-42ba-9c6e-823f3ef61f89",
   "metadata": {},
   "outputs": [
    {
     "data": {
      "text/plain": [
       "array([[ 42,  48,  54],\n",
       "       [114, 136, 158],\n",
       "       [186, 224, 262]])"
      ]
     },
     "execution_count": 56,
     "metadata": {},
     "output_type": "execute_result"
    }
   ],
   "source": [
    "np.dot(A, B)"
   ]
  },
  {
   "cell_type": "code",
   "execution_count": 57,
   "id": "6c5e47dd-d7d4-4e9d-86d6-20c2f2e2c7ec",
   "metadata": {},
   "outputs": [
    {
     "data": {
      "text/plain": [
       "array([[ 0,  1,  2,  3],\n",
       "       [ 4,  5,  6,  7],\n",
       "       [ 8,  9, 10, 11]])"
      ]
     },
     "execution_count": 57,
     "metadata": {},
     "output_type": "execute_result"
    }
   ],
   "source": [
    "B = B.reshape(3,4)\n",
    "B"
   ]
  },
  {
   "cell_type": "code",
   "execution_count": 58,
   "id": "9bb90945-dccc-4f07-9bc1-682d771b20d4",
   "metadata": {},
   "outputs": [
    {
     "data": {
      "text/plain": [
       "array([[ 14,  38,  62],\n",
       "       [ 38, 126, 214],\n",
       "       [ 62, 214, 366]])"
      ]
     },
     "execution_count": 58,
     "metadata": {},
     "output_type": "execute_result"
    }
   ],
   "source": [
    "A @ B.T"
   ]
  },
  {
   "cell_type": "code",
   "execution_count": 59,
   "id": "bb11f1df-1b61-4285-9302-6996e86c9590",
   "metadata": {},
   "outputs": [
    {
     "data": {
      "text/plain": [
       "array([[ 0,  1,  2,  3],\n",
       "       [ 4,  5,  6,  7],\n",
       "       [ 8,  9, 10, 11]])"
      ]
     },
     "execution_count": 59,
     "metadata": {},
     "output_type": "execute_result"
    }
   ],
   "source": [
    "A = np.arange(12).reshape(3,4)\n",
    "A"
   ]
  },
  {
   "cell_type": "code",
   "execution_count": 61,
   "id": "1c87d1d5-28ac-4126-b0e5-1c2e4dec1a85",
   "metadata": {},
   "outputs": [
    {
     "data": {
      "text/plain": [
       "array([1, 2, 3])"
      ]
     },
     "execution_count": 61,
     "metadata": {},
     "output_type": "execute_result"
    }
   ],
   "source": [
    "a = np.array([1, 2, 3])\n",
    "a"
   ]
  },
  {
   "cell_type": "code",
   "execution_count": 62,
   "id": "ef19b240-3056-4b74-94b7-77f315d11961",
   "metadata": {},
   "outputs": [
    {
     "data": {
      "text/plain": [
       "array([32, 38, 44, 50])"
      ]
     },
     "execution_count": 62,
     "metadata": {},
     "output_type": "execute_result"
    }
   ],
   "source": [
    "np.matmul(a,A)"
   ]
  },
  {
   "cell_type": "code",
   "execution_count": 64,
   "id": "0a77f1ff-a741-452a-9c89-e5252387c5eb",
   "metadata": {},
   "outputs": [
    {
     "data": {
      "text/plain": [
       "array([0, 1, 2])"
      ]
     },
     "execution_count": 64,
     "metadata": {},
     "output_type": "execute_result"
    }
   ],
   "source": [
    "a = np.arange(3)\n",
    "a.T"
   ]
  },
  {
   "cell_type": "code",
   "execution_count": 65,
   "id": "3c909ab5-e9d4-4ba7-9bdd-db6b01e57e90",
   "metadata": {},
   "outputs": [
    {
     "data": {
      "text/plain": [
       "array([[0],\n",
       "       [1],\n",
       "       [2]])"
      ]
     },
     "execution_count": 65,
     "metadata": {},
     "output_type": "execute_result"
    }
   ],
   "source": [
    "a = np.arange(3).reshape(1,3)\n",
    "a.T"
   ]
  },
  {
   "cell_type": "code",
   "execution_count": 66,
   "id": "61c54644-cf3d-4259-8e0c-f5397346e3eb",
   "metadata": {},
   "outputs": [
    {
     "data": {
      "text/plain": [
       "array([0, 1, 2])"
      ]
     },
     "execution_count": 66,
     "metadata": {},
     "output_type": "execute_result"
    }
   ],
   "source": [
    "v = np.arange(3)\n",
    "v"
   ]
  },
  {
   "cell_type": "code",
   "execution_count": 67,
   "id": "0611c2d8-eb3d-46f9-976c-59b3944189a9",
   "metadata": {},
   "outputs": [
    {
     "data": {
      "text/plain": [
       "array([[ 0,  1,  2,  3],\n",
       "       [ 4,  5,  6,  7],\n",
       "       [ 8,  9, 10, 11]])"
      ]
     },
     "execution_count": 67,
     "metadata": {},
     "output_type": "execute_result"
    }
   ],
   "source": [
    "A = np.arange(12).reshape(3,4)\n",
    "A"
   ]
  },
  {
   "cell_type": "code",
   "execution_count": 68,
   "id": "ceaccd58-cec8-43bc-be61-4426cbe3cc38",
   "metadata": {},
   "outputs": [
    {
     "data": {
      "text/plain": [
       "array([20, 23, 26, 29])"
      ]
     },
     "execution_count": 68,
     "metadata": {},
     "output_type": "execute_result"
    }
   ],
   "source": [
    "np.dot(v,A)"
   ]
  },
  {
   "cell_type": "code",
   "execution_count": 71,
   "id": "a54e3935-b799-4d74-addc-961119742c2e",
   "metadata": {},
   "outputs": [
    {
     "data": {
      "text/plain": [
       "array([ 0,  1,  2,  3,  4,  5,  6,  7,  8,  9, 10, 11])"
      ]
     },
     "execution_count": 71,
     "metadata": {},
     "output_type": "execute_result"
    }
   ],
   "source": [
    "A.flatten()"
   ]
  },
  {
   "cell_type": "code",
   "execution_count": 72,
   "id": "6c20bd27-b9f1-49c9-9a21-d850051bad55",
   "metadata": {},
   "outputs": [
    {
     "data": {
      "text/plain": [
       "array([ 0,  1,  2,  3,  4,  5,  6,  7,  8,  9, 10, 11])"
      ]
     },
     "execution_count": 72,
     "metadata": {},
     "output_type": "execute_result"
    }
   ],
   "source": [
    "A.ravel()"
   ]
  },
  {
   "cell_type": "code",
   "execution_count": 73,
   "id": "24ed87aa-beff-4078-8994-5d30eba7b487",
   "metadata": {},
   "outputs": [
    {
     "data": {
      "text/plain": [
       "array([ 0,  1,  2,  3,  4,  5,  6,  7,  8,  9, 10, 11])"
      ]
     },
     "execution_count": 73,
     "metadata": {},
     "output_type": "execute_result"
    }
   ],
   "source": [
    "A.reshape(12)"
   ]
  },
  {
   "cell_type": "code",
   "execution_count": 74,
   "id": "b70ddd61-de14-4547-9858-5abf2c9e53af",
   "metadata": {},
   "outputs": [
    {
     "data": {
      "text/plain": [
       "(3, 4)"
      ]
     },
     "execution_count": 74,
     "metadata": {},
     "output_type": "execute_result"
    }
   ],
   "source": [
    "A.shape"
   ]
  },
  {
   "cell_type": "code",
   "execution_count": 80,
   "id": "ab13f618-ae1d-4138-b969-40e6f0f39b17",
   "metadata": {},
   "outputs": [
    {
     "data": {
      "text/plain": [
       "array([[ 0,  1],\n",
       "       [ 2,  3],\n",
       "       [ 4,  5],\n",
       "       [ 6,  7],\n",
       "       [ 8,  9],\n",
       "       [10, 11]])"
      ]
     },
     "execution_count": 80,
     "metadata": {},
     "output_type": "execute_result"
    }
   ],
   "source": [
    "A.reshape(6,-1)"
   ]
  },
  {
   "cell_type": "code",
   "execution_count": 81,
   "id": "519f7c79-e8e2-4c5a-9a48-057470e58d18",
   "metadata": {},
   "outputs": [
    {
     "data": {
      "text/plain": [
       "array([[ 0,  1,  2,  3,  4,  5],\n",
       "       [ 6,  7,  8,  9, 10, 11]])"
      ]
     },
     "execution_count": 81,
     "metadata": {},
     "output_type": "execute_result"
    }
   ],
   "source": [
    "A.reshape(-1,6)"
   ]
  },
  {
   "cell_type": "code",
   "execution_count": 83,
   "id": "3545e4d2-fa6d-4bd9-aa58-264cb2fe8d63",
   "metadata": {},
   "outputs": [
    {
     "data": {
      "text/plain": [
       "array([[[ 0,  1,  2,  3],\n",
       "        [ 4,  5,  6,  7],\n",
       "        [ 8,  9, 10, 11]],\n",
       "\n",
       "       [[12, 13, 14, 15],\n",
       "        [16, 17, 18, 19],\n",
       "        [20, 21, 22, 23]]])"
      ]
     },
     "execution_count": 83,
     "metadata": {},
     "output_type": "execute_result"
    }
   ],
   "source": [
    "B = np.arange(24).reshape(2, 3, 4)\n",
    "B"
   ]
  },
  {
   "cell_type": "code",
   "execution_count": 86,
   "id": "9e29c0fb-d432-47ed-ad43-24d3da7b5615",
   "metadata": {},
   "outputs": [
    {
     "data": {
      "text/plain": [
       "np.int64(17)"
      ]
     },
     "execution_count": 86,
     "metadata": {},
     "output_type": "execute_result"
    }
   ],
   "source": [
    "B[1,1,1]"
   ]
  },
  {
   "cell_type": "code",
   "execution_count": null,
   "id": "4ba5bf3d-9372-46bb-bf06-bc98f64d9b4e",
   "metadata": {},
   "outputs": [],
   "source": []
  },
  {
   "cell_type": "code",
   "execution_count": 112,
   "id": "f7b7515e-48eb-47b5-9ca7-317062eccd3a",
   "metadata": {},
   "outputs": [
    {
     "data": {
      "text/plain": [
       "array([[ 0,  1,  2],\n",
       "       [ 3,  4,  5],\n",
       "       [ 6,  7,  8],\n",
       "       [ 9, 10, 11]])"
      ]
     },
     "execution_count": 112,
     "metadata": {},
     "output_type": "execute_result"
    }
   ],
   "source": [
    "A = np.arange(12).reshape(4,3)\n",
    "A"
   ]
  },
  {
   "cell_type": "code",
   "execution_count": 113,
   "id": "fdbb6f16-3910-406c-a2f0-df8a59d2d815",
   "metadata": {},
   "outputs": [
    {
     "data": {
      "text/plain": [
       "array([[0, 1, 2]])"
      ]
     },
     "execution_count": 113,
     "metadata": {},
     "output_type": "execute_result"
    }
   ],
   "source": [
    "B = np.arange(3).reshape(1,3)\n",
    "B"
   ]
  },
  {
   "cell_type": "code",
   "execution_count": 114,
   "id": "2d4d58f5-141d-4a74-aec5-66c3c16e6beb",
   "metadata": {},
   "outputs": [
    {
     "name": "stdout",
     "output_type": "stream",
     "text": [
      "(4, 3) (1, 3)\n"
     ]
    }
   ],
   "source": [
    "print(A.shape,B.shape)"
   ]
  },
  {
   "cell_type": "code",
   "execution_count": 115,
   "id": "97f25027-e5a0-4fa6-8760-536d93b115e5",
   "metadata": {},
   "outputs": [
    {
     "data": {
      "text/plain": [
       "array([[ 0,  2,  4],\n",
       "       [ 3,  5,  7],\n",
       "       [ 6,  8, 10],\n",
       "       [ 9, 11, 13]])"
      ]
     },
     "execution_count": 115,
     "metadata": {},
     "output_type": "execute_result"
    }
   ],
   "source": [
    "A + B"
   ]
  },
  {
   "cell_type": "code",
   "execution_count": 116,
   "id": "9d20f456-4ebf-4def-a426-511fc4654946",
   "metadata": {},
   "outputs": [
    {
     "data": {
      "text/plain": [
       "array([[ 0,  1,  2,  3],\n",
       "       [ 4,  5,  6,  7],\n",
       "       [ 8,  9, 10, 11]])"
      ]
     },
     "execution_count": 116,
     "metadata": {},
     "output_type": "execute_result"
    }
   ],
   "source": [
    "A = np.arange(12).reshape(3,4)\n",
    "A"
   ]
  },
  {
   "cell_type": "code",
   "execution_count": 117,
   "id": "b6f8be5b-c0a0-4d84-b439-42ec35391145",
   "metadata": {},
   "outputs": [
    {
     "data": {
      "text/plain": [
       "array([[0],\n",
       "       [1],\n",
       "       [2]])"
      ]
     },
     "execution_count": 117,
     "metadata": {},
     "output_type": "execute_result"
    }
   ],
   "source": [
    "B.T"
   ]
  },
  {
   "cell_type": "code",
   "execution_count": 118,
   "id": "fb420154-54d3-4134-943c-d3e08edb07da",
   "metadata": {},
   "outputs": [
    {
     "data": {
      "text/plain": [
       "array([[ 0,  1,  2,  3],\n",
       "       [ 5,  6,  7,  8],\n",
       "       [10, 11, 12, 13]])"
      ]
     },
     "execution_count": 118,
     "metadata": {},
     "output_type": "execute_result"
    }
   ],
   "source": [
    "A + B.T"
   ]
  },
  {
   "cell_type": "code",
   "execution_count": 119,
   "id": "509741bb-7586-4e63-8aba-548b1c1182bd",
   "metadata": {},
   "outputs": [
    {
     "data": {
      "text/plain": [
       "array([[ 0,  2,  4,  6],\n",
       "       [ 8, 10, 12, 14],\n",
       "       [16, 18, 20, 22]])"
      ]
     },
     "execution_count": 119,
     "metadata": {},
     "output_type": "execute_result"
    }
   ],
   "source": [
    "A * 2"
   ]
  },
  {
   "cell_type": "code",
   "execution_count": 123,
   "id": "7a32984b-3dc3-4bd6-952b-1aa1dd364ae0",
   "metadata": {},
   "outputs": [
    {
     "data": {
      "text/plain": [
       "array([50, 78,  4, 35,  3])"
      ]
     },
     "execution_count": 123,
     "metadata": {},
     "output_type": "execute_result"
    }
   ],
   "source": [
    "np.random.randint(1,100,5)"
   ]
  },
  {
   "cell_type": "code",
   "execution_count": 124,
   "id": "d35f5664-2f23-41db-aceb-d95194d0eb10",
   "metadata": {},
   "outputs": [
    {
     "data": {
      "text/plain": [
       "array([0.00236141, 0.62749494, 0.27053785])"
      ]
     },
     "execution_count": 124,
     "metadata": {},
     "output_type": "execute_result"
    }
   ],
   "source": [
    "np.random.rand(3)"
   ]
  },
  {
   "cell_type": "code",
   "execution_count": 125,
   "id": "0f450707-c8e5-4bca-88ec-f56ba5288ccd",
   "metadata": {},
   "outputs": [
    {
     "data": {
      "text/plain": [
       "71.88168779772931"
      ]
     },
     "execution_count": 125,
     "metadata": {},
     "output_type": "execute_result"
    }
   ],
   "source": [
    "50 + np.random.rand() * 25"
   ]
  },
  {
   "cell_type": "code",
   "execution_count": 127,
   "id": "859f2fe3-ae60-4b6a-b000-776a0f97f405",
   "metadata": {},
   "outputs": [],
   "source": [
    "import matplotlib.pyplot as plt"
   ]
  },
  {
   "cell_type": "code",
   "execution_count": 133,
   "id": "0452230e-290f-4668-94c3-52ab40480317",
   "metadata": {},
   "outputs": [
    {
     "data": {
      "text/plain": [
       "array([110.86145353,  82.11057933,  81.94608718,  81.37018845,\n",
       "       111.60287238, 106.38245105,  72.52864886, 103.14000864,\n",
       "       119.9993196 , 113.79809275, 100.30946151,  68.78192386,\n",
       "       114.4903033 ,  99.09771793, 137.39669135,  81.6298474 ,\n",
       "        94.39172034,  93.12904041,  86.9721094 ,  85.07543818,\n",
       "        95.61807655,  89.71893818,  95.20114215,  74.05776092,\n",
       "        80.12421361, 108.71913025, 112.53897514,  96.33872833,\n",
       "        90.62233152, 121.58672045,  97.12509446, 100.80487211,\n",
       "        85.32065471,  75.65100541, 105.93142768, 140.07675328,\n",
       "        97.25095767, 103.49906912,  79.12322217, 111.00731424,\n",
       "       100.40564446, 114.08838731,  99.86660724, 137.62620583,\n",
       "       100.21891645, 104.4253881 , 111.73435457,  96.27196945,\n",
       "        88.41793567, 120.54558718,  95.80626948, 114.08305657,\n",
       "        92.81231932, 100.75378525,  85.34993065,  58.44722454,\n",
       "       118.37886004, 110.63755437, 126.07252871, 106.58952038,\n",
       "       100.22119391, 112.67614674, 100.1079789 ,  74.53081418,\n",
       "        98.62485234,  86.10784755,  92.52984254,  78.52563762,\n",
       "       134.72765952,  93.37036119, 109.66472178,  97.33566498,\n",
       "       112.01147175, 111.69417315, 104.50978139, 108.21264747,\n",
       "       116.13387726, 109.00596802,  93.79020043,  79.40702681,\n",
       "        94.23918499, 105.63233543,  80.93437387,  84.88869211,\n",
       "        84.88632265,  93.69209354,  89.5471741 , 128.27056677,\n",
       "       117.13044747,  91.71583145, 109.15303848, 114.57346901,\n",
       "       133.02367673,  80.953108  ,  71.78580752,  89.69064606,\n",
       "        93.3938447 , 110.75072428, 137.89070927, 104.57085755])"
      ]
     },
     "execution_count": 133,
     "metadata": {},
     "output_type": "execute_result"
    }
   ],
   "source": [
    "mean = 100\n",
    "std = 15\n",
    "np.random.normal(mean, std, 100)"
   ]
  },
  {
   "cell_type": "code",
   "execution_count": 134,
   "id": "2166372b-32f3-4aad-89b4-a3fca043c080",
   "metadata": {},
   "outputs": [
    {
     "data": {
      "text/plain": [
       "array([0, 1, 2, 3])"
      ]
     },
     "execution_count": 134,
     "metadata": {},
     "output_type": "execute_result"
    }
   ],
   "source": [
    "a = np.arange(4)\n",
    "a"
   ]
  },
  {
   "cell_type": "code",
   "execution_count": 135,
   "id": "5ff671bf-d5c3-47f0-94e6-c83b6e2b3f6f",
   "metadata": {},
   "outputs": [
    {
     "data": {
      "text/plain": [
       "array([[0, 1],\n",
       "       [2, 3]])"
      ]
     },
     "execution_count": 135,
     "metadata": {},
     "output_type": "execute_result"
    }
   ],
   "source": [
    "b = a.reshape(2,2)\n",
    "b"
   ]
  },
  {
   "cell_type": "code",
   "execution_count": 136,
   "id": "1cca652b-2e3e-489d-aae8-f5f122d420ad",
   "metadata": {},
   "outputs": [
    {
     "data": {
      "text/plain": [
       "array([0, 2, 4, 6])"
      ]
     },
     "execution_count": 136,
     "metadata": {},
     "output_type": "execute_result"
    }
   ],
   "source": [
    "c = a * 2\n",
    "c"
   ]
  },
  {
   "cell_type": "code",
   "execution_count": 137,
   "id": "e234d2ae-200f-4ec1-8f36-04192cc88c5e",
   "metadata": {},
   "outputs": [
    {
     "data": {
      "text/plain": [
       "array([100,   1,   2,   3])"
      ]
     },
     "execution_count": 137,
     "metadata": {},
     "output_type": "execute_result"
    }
   ],
   "source": [
    "a[0] = 100\n",
    "a"
   ]
  },
  {
   "cell_type": "code",
   "execution_count": 138,
   "id": "c60b9dfa-6ff4-4127-b833-776b4ae7c9c5",
   "metadata": {},
   "outputs": [
    {
     "data": {
      "text/plain": [
       "array([[100,   1],\n",
       "       [  2,   3]])"
      ]
     },
     "execution_count": 138,
     "metadata": {},
     "output_type": "execute_result"
    }
   ],
   "source": [
    "b"
   ]
  },
  {
   "cell_type": "code",
   "execution_count": 139,
   "id": "e66c6b39-1531-4db9-b4f5-feb077c3f86c",
   "metadata": {},
   "outputs": [
    {
     "data": {
      "text/plain": [
       "array([0, 2, 4, 6])"
      ]
     },
     "execution_count": 139,
     "metadata": {},
     "output_type": "execute_result"
    }
   ],
   "source": [
    "c"
   ]
  },
  {
   "cell_type": "code",
   "execution_count": 140,
   "id": "ce4d2106-c38b-49fa-b337-7db576cec514",
   "metadata": {},
   "outputs": [
    {
     "data": {
      "text/plain": [
       "array([100,   3])"
      ]
     },
     "execution_count": 140,
     "metadata": {},
     "output_type": "execute_result"
    }
   ],
   "source": [
    "a[a>2]"
   ]
  },
  {
   "cell_type": "code",
   "execution_count": 141,
   "id": "9de86c20-22fc-4f82-8bc8-8cd5b3dee96b",
   "metadata": {},
   "outputs": [
    {
     "data": {
      "text/plain": [
       "array([[ 0,  1,  2,  3],\n",
       "       [ 4,  5,  6,  7],\n",
       "       [ 8,  9, 10, 11]])"
      ]
     },
     "execution_count": 141,
     "metadata": {},
     "output_type": "execute_result"
    }
   ],
   "source": [
    "a = np.arange(12).reshape(3,4)\n",
    "a"
   ]
  },
  {
   "cell_type": "code",
   "execution_count": 145,
   "id": "4611c487-8a22-4ebf-bd1e-29c352aff2aa",
   "metadata": {},
   "outputs": [
    {
     "data": {
      "text/plain": [
       "np.int64(66)"
      ]
     },
     "execution_count": 145,
     "metadata": {},
     "output_type": "execute_result"
    }
   ],
   "source": [
    "np.sum(a)"
   ]
  },
  {
   "cell_type": "code",
   "execution_count": 146,
   "id": "cfeabc0d-fb59-4015-b46d-c89e772f3900",
   "metadata": {},
   "outputs": [
    {
     "data": {
      "text/plain": [
       "array([12, 15, 18, 21])"
      ]
     },
     "execution_count": 146,
     "metadata": {},
     "output_type": "execute_result"
    }
   ],
   "source": [
    "np.sum(a,axis=0)"
   ]
  },
  {
   "cell_type": "code",
   "execution_count": 147,
   "id": "f46c4bf5-44ac-490e-bc11-58a4ea99bb64",
   "metadata": {},
   "outputs": [
    {
     "data": {
      "text/plain": [
       "array([ 6, 22, 38])"
      ]
     },
     "execution_count": 147,
     "metadata": {},
     "output_type": "execute_result"
    }
   ],
   "source": [
    "np.sum(a,axis=1)"
   ]
  },
  {
   "cell_type": "code",
   "execution_count": 148,
   "id": "ab065b28-fe86-4b75-822d-9e6a4ba780d6",
   "metadata": {},
   "outputs": [
    {
     "data": {
      "text/plain": [
       "array([4., 5., 6., 7.])"
      ]
     },
     "execution_count": 148,
     "metadata": {},
     "output_type": "execute_result"
    }
   ],
   "source": [
    "np.mean(a,axis=0)"
   ]
  },
  {
   "cell_type": "code",
   "execution_count": 149,
   "id": "4b3b7e5f-99b4-4fd0-9622-be11948ee27a",
   "metadata": {},
   "outputs": [
    {
     "data": {
      "text/plain": [
       "array([4., 5., 6., 7.])"
      ]
     },
     "execution_count": 149,
     "metadata": {},
     "output_type": "execute_result"
    }
   ],
   "source": [
    "np.median(a,axis=0)"
   ]
  },
  {
   "cell_type": "code",
   "execution_count": null,
   "id": "4d89fdca-66f5-494e-90dc-16c555101b36",
   "metadata": {},
   "outputs": [],
   "source": []
  }
 ],
 "metadata": {
  "kernelspec": {
   "display_name": "Python 3 (ipykernel)",
   "language": "python",
   "name": "python3"
  },
  "language_info": {
   "codemirror_mode": {
    "name": "ipython",
    "version": 3
   },
   "file_extension": ".py",
   "mimetype": "text/x-python",
   "name": "python",
   "nbconvert_exporter": "python",
   "pygments_lexer": "ipython3",
   "version": "3.13.5"
  }
 },
 "nbformat": 4,
 "nbformat_minor": 5
}
